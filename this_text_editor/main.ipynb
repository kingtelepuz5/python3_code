{
 "cells": [
  {
   "cell_type": "code",
   "execution_count": 1,
   "metadata": {},
   "outputs": [],
   "source": [
    "#=========== IMPORTS PACKEGS =================\n",
    "from PIL import Image, ImageTk\n",
    "import os\n",
    "import tkinter as tk \n",
    "from tkinter.filedialog import askopenfilename\n",
    "#============= END TITLE ========================"
   ]
  },
  {
   "cell_type": "code",
   "execution_count": 3,
   "metadata": {},
   "outputs": [],
   "source": [
    "#==========Picture to front ====================\n",
    "#p_b_o = ImageTk.PhotoImage(file=\"smoke01.png\")#photo_botton_open\n",
    "#p_b_s = ImageTk.PhotoImage(file=\"smoke01.png\")#photo_botton_save\n",
    "#p_b_w_m= ImageTk.PhotoImage(file=\"smoke01.png\")#photo_botton_where_me\n",
    "\n",
    "#============ END  title =================================\n",
    "\n",
    "#===============  FUNC and logic soft about program ====================\n",
    "def open_file():\n",
    "    \"\"\" open file in editor\"\"\"\n",
    "    filepath = askopenfilename(filetypes=[(\"Text files\", \"*.txt\"), (\"All Files\", \"*.*\")])\n",
    "    if not filepath:\n",
    "        return \n",
    "    txt_edit.delete(1.0, tk.END)\n",
    "    with open(filepath, \"r\") as input_file:\n",
    "        text = input_file.read()\n",
    "        txt_edit.insert(tk.END, text)\n",
    "    window.title(f\"Simple Text Editor - {filepath}\")\n",
    "    \n",
    "def save_file():\n",
    "    filepath = askopenfilename(defaulttextension=\"txt\",filetypes=[(\"Text Files\", \"*.txt\"), (\"All Files\", \"*.*\")])\n",
    "    if not filepath:\n",
    "        return\n",
    "    with open(filepath, \"w\") as output_file:\n",
    "        text = txt_edit.get(1.0, tk.END)\n",
    "        output_file.write(text)\n",
    "    window.title(f\"Simple Text Editor - {filepath}\")\n",
    "def where_me():\n",
    "    window.title(f\"Now you in - {os.getcwd()}\")\n",
    "#============ END  title =================================\n",
    "#============ FRONT about program  ========================    \n",
    "window = tk.Tk()\n",
    "window.title(\"Simple Text Editor\")\n",
    "window.rowconfigure(0, minsize=800, weight=1)\n",
    "window.columnconfigure(1, minsize=800, weight=1)\n",
    "\n",
    "txt_edit = tk.Text(window)\n",
    "fr_buttons = tk.Frame(window, relief=tk.RAISED, bd=2)\n",
    "btn_open = tk.Button(fr_buttons, text=\"Open\", command=open_file)\n",
    "btn_save = tk.Button(fr_buttons, text=\"Save As...\", command=save_file)\n",
    "btn_where = tk.Button(fr_buttons, text=\"Where me?\", command=where_me)\n",
    "#btn_ml_linear_reg = tk.Button(fr_buttons, text=\"Use linear regression to data\", command=linear_reg)\n",
    "\n",
    "btn_open.grid(row=0, column=0, sticky=\"ew\", padx=5, pady=5)\n",
    "btn_save.grid(row=1, column=0, sticky=\"ew\", padx=5)\n",
    "btn_where.grid(row=2, column=0, sticky=\"ew\", padx=5)\n",
    "fr_buttons.grid(row=0, column=0,sticky=\"ns\")\n",
    "txt_edit.grid(row=0, column=1, sticky=\"nsew\")\n",
    "\n",
    "\n",
    "#===============  END TITLE    =============================\n",
    "#need Jonah Basil library + re + machine intelenge, OOP? + wiki! \n",
    "#достал файл из зипа, выставил на таймере, достал следующий, удалил предыдущий \n",
    "#обязательная архивация всех выходных файлов и датасетов \n"
   ]
  },
  {
   "cell_type": "code",
   "execution_count": 4,
   "metadata": {},
   "outputs": [],
   "source": [
    "window.mainloop()"
   ]
  },
  {
   "cell_type": "code",
   "execution_count": null,
   "metadata": {},
   "outputs": [],
   "source": []
  }
 ],
 "metadata": {
  "kernelspec": {
   "display_name": "Python 3",
   "language": "python",
   "name": "python3"
  },
  "language_info": {
   "codemirror_mode": {
    "name": "ipython",
    "version": 3
   },
   "file_extension": ".py",
   "mimetype": "text/x-python",
   "name": "python",
   "nbconvert_exporter": "python",
   "pygments_lexer": "ipython3",
   "version": "3.8.5"
  }
 },
 "nbformat": 4,
 "nbformat_minor": 4
}
